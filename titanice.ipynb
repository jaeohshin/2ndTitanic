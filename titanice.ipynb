{
 "cells": [
  {
   "cell_type": "markdown",
   "id": "9eaeb419",
   "metadata": {},
   "source": [
    "March 1st, 2023\n",
    "Jaeoh Shin.\n",
    "2nd ML projct- predicting survival probably of Titanic data from Kaggle\n",
    "\n",
    "Task:\n",
    "-Using trainning data (\"train.csv\") where we know each person is survived or not, we predict survival of a person by using his/ her features (\"test.csv\").\n"
   ]
  },
  {
   "cell_type": "code",
   "execution_count": 1,
   "id": "90a6fb79",
   "metadata": {},
   "outputs": [],
   "source": [
    "#load libraries\n",
    "import pandas as pd\n",
    "import numpy as np\n",
    "import matplotlib.pyplot as plt"
   ]
  },
  {
   "cell_type": "code",
   "execution_count": null,
   "id": "5b725dff",
   "metadata": {},
   "outputs": [],
   "source": []
  }
 ],
 "metadata": {
  "kernelspec": {
   "display_name": "Python 3 (ipykernel)",
   "language": "python",
   "name": "python3"
  },
  "language_info": {
   "codemirror_mode": {
    "name": "ipython",
    "version": 3
   },
   "file_extension": ".py",
   "mimetype": "text/x-python",
   "name": "python",
   "nbconvert_exporter": "python",
   "pygments_lexer": "ipython3",
   "version": "3.9.7"
  }
 },
 "nbformat": 4,
 "nbformat_minor": 5
}
