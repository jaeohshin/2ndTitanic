{
 "cells": [
  {
   "cell_type": "markdown",
   "id": "e844c922",
   "metadata": {},
   "source": [
    "March 1st, 2023\n",
    "Jaeoh Shin.\n",
    "2nd ML projct- predicting survival probably of Titanic data from Kaggle\n",
    "\n",
    "Task:\n",
    "-Using trainning data (\"train.csv\") where we know each person is survived or not, we predict survival of a person by using his/ her features (\"test.csv\").\n"
   ]
  }
 ],
 "metadata": {
  "kernelspec": {
   "display_name": "Python 3 (ipykernel)",
   "language": "python",
   "name": "python3"
  },
  "language_info": {
   "codemirror_mode": {
    "name": "ipython",
    "version": 3
   },
   "file_extension": ".py",
   "mimetype": "text/x-python",
   "name": "python",
   "nbconvert_exporter": "python",
   "pygments_lexer": "ipython3",
   "version": "3.9.7"
  }
 },
 "nbformat": 4,
 "nbformat_minor": 5
}
